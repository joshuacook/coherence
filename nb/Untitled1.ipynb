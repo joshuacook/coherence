{
 "cells": [
  {
   "cell_type": "code",
   "execution_count": 24,
   "metadata": {},
   "outputs": [],
   "source": [
    "from sklearn.decomposition import PCA\n",
    "import numpy as np\n",
    "import pandas as pd\n",
    "import matplotlib.pyplot as plt\n",
    "from itertools import combinations\n",
    "from sklearn.feature_selection import mutual_info_regression"
   ]
  },
  {
   "cell_type": "code",
   "execution_count": 5,
   "metadata": {},
   "outputs": [],
   "source": [
    "def PMI(col1, col2, df):\n",
    "    feature_1 = df[[col1]]\n",
    "    feature_2 = df[col2]\n",
    "    return mutual_info_regression(feature_1, feature_2)[0]"
   ]
  },
  {
   "cell_type": "code",
   "execution_count": 21,
   "metadata": {},
   "outputs": [],
   "source": [
    "def PMIs(features, df):\n",
    "    pairwise_indices = list(combinations(features, 2))\n",
    "    pmis = []\n",
    "    for pair in pairwise_indices:\n",
    "        pmis.append((pair, PMI(*pair, df)))\n",
    "    return pmis"
   ]
  },
  {
   "cell_type": "code",
   "execution_count": 22,
   "metadata": {},
   "outputs": [],
   "source": [
    "def coherence(lrm_vector, df):\n",
    "    coherence_value = 0\n",
    "    for pmi in PMIs(df.columns, df):\n",
    "        (feature_1, feature_2), value = pmi\n",
    "        loading_feature_1 = lrm_vector[feature_1]\n",
    "        loading_feature_2 = lrm_vector[feature_2]\n",
    "        coherence_value += np.abs(loading_feature_1)*np.abs(loading_feature_2)*value\n",
    "    return coherence_value"
   ]
  },
  {
   "cell_type": "code",
   "execution_count": 80,
   "metadata": {},
   "outputs": [],
   "source": [
    "from sklearn.datasets import load_iris, load_digits\n",
    "from sklearn.linear_model import LogisticRegression\n",
    "from sklearn.model_selection import train_test_split\n",
    "from sklearn.decomposition import PCA"
   ]
  },
  {
   "cell_type": "code",
   "execution_count": 81,
   "metadata": {},
   "outputs": [
    {
     "name": "stdout",
     "output_type": "stream",
     "text": [
      "1.0658868788775313\n",
      "0.9603014852426072\n",
      "1.0004942213009704\n",
      "1.0320069722024312\n",
      "0.6900298488991311\n",
      "0.7698168301910697\n",
      "0.5391897072991045\n",
      "0.9329530372862984\n",
      "0.8055322504600005\n",
      "0.7341353524322288\n",
      "0.7732185469557157\n",
      "0.7343775642850514\n",
      "0.7825254377835292\n",
      "1.0017411719286815\n",
      "0.9477249080692024\n",
      "0.7972707182721724\n",
      "0.6990078860636705\n",
      "0.7617430088848516\n",
      "0.8097749073287964\n",
      "0.7863203985657\n",
      "0.8362477846224237\n",
      "0.7569650480608237\n",
      "0.8639272686362793\n",
      "0.8494776724088511\n",
      "0.7695827559491882\n",
      "0.8571875220098273\n",
      "0.8724686020101992\n",
      "0.7413053905772828\n",
      "0.6794185005106816\n",
      "0.9662278744844627\n",
      "0.758932714440954\n",
      "0.7095208171606917\n",
      "0.881154710430906\n",
      "0.9166845660958571\n",
      "0.8390934779556685\n",
      "0.7850301053675696\n",
      "0.9413232772666275\n",
      "0.8263008806175064\n",
      "0.8137752136069965\n",
      "0.7336350526007277\n",
      "0.9701438763619444\n",
      "0.515923152725629\n",
      "0.7578655095236632\n",
      "0.48246152466974573\n",
      "0.7415982059977405\n",
      "0.49723803172603165\n",
      "0.7072141083448152\n",
      "0.14988955276000884\n",
      "0.31377926408982904\n",
      "0.07567898855692386\n",
      "0.05841303785812443\n",
      "0.13531388531377292\n",
      "0.011129859383960284\n",
      "0.03895240470299581\n",
      "0.005259551936361977\n",
      "0.004218660073988085\n",
      "0.005107734496155642\n",
      "0.008699984480996167\n",
      "0.010531841640404003\n",
      "0.004468700625246805\n",
      "0.001697840480589693\n",
      "0.0153299357010505\n",
      "0.011208006000361632\n",
      "7.079862019869484e-18\n"
     ]
    }
   ],
   "source": [
    "X, y = load_digits(return_X_y=True)\n",
    "X = pd.DataFrame(X)\n",
    "n_components = X.shape[1]\n",
    "X_centered = X - X.mean()\n",
    "\n",
    "pca = PCA(n_components=n_components)\n",
    "X_pca = pd.DataFrame(pca.fit_transform(X_centered))\n",
    "loadings = pd.DataFrame(pca.components_).T\n",
    "\n",
    "for i in range(n_components):\n",
    "    print(coherence(loadings[i], X_centered))"
   ]
  },
  {
   "cell_type": "code",
   "execution_count": 87,
   "metadata": {},
   "outputs": [],
   "source": [
    "X_red_1 = X_pca[[0,1,2,3,4,5,6,7,8,9,10]]\n",
    "X_red_2 = X_pca[[0,3,13,2,40,29,1,14,36,7,33]]"
   ]
  },
  {
   "cell_type": "code",
   "execution_count": 88,
   "metadata": {},
   "outputs": [
    {
     "data": {
      "text/plain": [
       "((1797, 11), (1797, 11))"
      ]
     },
     "execution_count": 88,
     "metadata": {},
     "output_type": "execute_result"
    }
   ],
   "source": [
    "X_red_1.shape, X_red_2.shape"
   ]
  },
  {
   "cell_type": "code",
   "execution_count": 89,
   "metadata": {},
   "outputs": [],
   "source": [
    "(X_train_c, \n",
    " X_test_c, \n",
    " X_train_r1, \n",
    " X_test_r1, \n",
    " X_train_r2, \n",
    " X_test_r2, \n",
    " y_train, \n",
    " y_test) = train_test_split(X_centered, X_red_1, X_red_2, y)\n"
   ]
  },
  {
   "cell_type": "code",
   "execution_count": 90,
   "metadata": {},
   "outputs": [
    {
     "name": "stderr",
     "output_type": "stream",
     "text": [
      "/opt/conda/lib/python3.7/site-packages/sklearn/linear_model/_logistic.py:940: ConvergenceWarning: lbfgs failed to converge (status=1):\n",
      "STOP: TOTAL NO. of ITERATIONS REACHED LIMIT.\n",
      "\n",
      "Increase the number of iterations (max_iter) or scale the data as shown in:\n",
      "    https://scikit-learn.org/stable/modules/preprocessing.html\n",
      "Please also refer to the documentation for alternative solver options:\n",
      "    https://scikit-learn.org/stable/modules/linear_model.html#logistic-regression\n",
      "  extra_warning_msg=_LOGISTIC_SOLVER_CONVERGENCE_MSG)\n"
     ]
    },
    {
     "data": {
      "text/plain": [
       "0.9688888888888889"
      ]
     },
     "execution_count": 90,
     "metadata": {},
     "output_type": "execute_result"
    }
   ],
   "source": [
    "lr_c = LogisticRegression()\n",
    "lr_c.fit(X_train_c, y_train)\n",
    "lr_c.score(X_test_c, y_test)"
   ]
  },
  {
   "cell_type": "code",
   "execution_count": 91,
   "metadata": {},
   "outputs": [
    {
     "name": "stderr",
     "output_type": "stream",
     "text": [
      "/opt/conda/lib/python3.7/site-packages/sklearn/linear_model/_logistic.py:940: ConvergenceWarning: lbfgs failed to converge (status=1):\n",
      "STOP: TOTAL NO. of ITERATIONS REACHED LIMIT.\n",
      "\n",
      "Increase the number of iterations (max_iter) or scale the data as shown in:\n",
      "    https://scikit-learn.org/stable/modules/preprocessing.html\n",
      "Please also refer to the documentation for alternative solver options:\n",
      "    https://scikit-learn.org/stable/modules/linear_model.html#logistic-regression\n",
      "  extra_warning_msg=_LOGISTIC_SOLVER_CONVERGENCE_MSG)\n"
     ]
    },
    {
     "data": {
      "text/plain": [
       "0.9444444444444444"
      ]
     },
     "execution_count": 91,
     "metadata": {},
     "output_type": "execute_result"
    }
   ],
   "source": [
    "lr_r1 = LogisticRegression()\n",
    "lr_r1.fit(X_train_r1, y_train)\n",
    "lr_r1.score(X_test_r1, y_test)"
   ]
  },
  {
   "cell_type": "code",
   "execution_count": 92,
   "metadata": {},
   "outputs": [
    {
     "name": "stderr",
     "output_type": "stream",
     "text": [
      "/opt/conda/lib/python3.7/site-packages/sklearn/linear_model/_logistic.py:940: ConvergenceWarning: lbfgs failed to converge (status=1):\n",
      "STOP: TOTAL NO. of ITERATIONS REACHED LIMIT.\n",
      "\n",
      "Increase the number of iterations (max_iter) or scale the data as shown in:\n",
      "    https://scikit-learn.org/stable/modules/preprocessing.html\n",
      "Please also refer to the documentation for alternative solver options:\n",
      "    https://scikit-learn.org/stable/modules/linear_model.html#logistic-regression\n",
      "  extra_warning_msg=_LOGISTIC_SOLVER_CONVERGENCE_MSG)\n"
     ]
    },
    {
     "data": {
      "text/plain": [
       "0.86"
      ]
     },
     "execution_count": 92,
     "metadata": {},
     "output_type": "execute_result"
    }
   ],
   "source": [
    "lr_r2 = LogisticRegression()\n",
    "lr_r2.fit(X_train_r2, y_train)\n",
    "lr_r2.score(X_test_r2, y_test)"
   ]
  },
  {
   "cell_type": "code",
   "execution_count": null,
   "metadata": {},
   "outputs": [],
   "source": []
  }
 ],
 "metadata": {
  "kernelspec": {
   "display_name": "Python 3",
   "language": "python",
   "name": "python3"
  },
  "language_info": {
   "codemirror_mode": {
    "name": "ipython",
    "version": 3
   },
   "file_extension": ".py",
   "mimetype": "text/x-python",
   "name": "python",
   "nbconvert_exporter": "python",
   "pygments_lexer": "ipython3",
   "version": "3.7.6"
  }
 },
 "nbformat": 4,
 "nbformat_minor": 4
}
